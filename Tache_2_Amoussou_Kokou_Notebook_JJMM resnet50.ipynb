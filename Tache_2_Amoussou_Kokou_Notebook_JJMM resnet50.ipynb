{
 "cells": [
  {
   "cell_type": "code",
   "execution_count": 1,
   "id": "d1df6b05",
   "metadata": {},
   "outputs": [],
   "source": [
    "%load_ext autoreload\n",
    "%autoreload 2"
   ]
  },
  {
   "cell_type": "markdown",
   "id": "d9811647",
   "metadata": {},
   "source": [
    "0) Install/Imports (si besoin)"
   ]
  },
  {
   "cell_type": "code",
   "execution_count": 2,
   "id": "537cb368",
   "metadata": {},
   "outputs": [],
   "source": [
    "# !pip install timm==1.0.8 albumentations==1.4.8 opencv-python==4.10.0.84\n",
    "import os, re, json, math, random\n",
    "from pathlib import Path\n",
    "import numpy as np\n",
    "import pandas as pd\n",
    "from PIL import Image\n",
    "\n",
    "import torch\n",
    "import torch.nn as nn\n",
    "from torch.utils.data import Dataset, DataLoader\n",
    "from torchvision import transforms\n",
    "import timm\n",
    "from sklearn.model_selection import StratifiedKFold\n",
    "from sklearn.metrics import precision_score, recall_score, f1_score"
   ]
  },
  {
   "cell_type": "markdown",
   "id": "60dceae2",
   "metadata": {},
   "source": [
    "1) Utils & parsing des labels"
   ]
  },
  {
   "cell_type": "code",
   "execution_count": 3,
   "id": "c5f2d7f3",
   "metadata": {},
   "outputs": [],
   "source": [
    "IMG_EXTS = {\".jpg\", \".jpeg\", \".png\", \".bmp\", \".webp\", \".JPG\", \".PNG\", \".JPEG\"}\n",
    "import re\n",
    "from pathlib import Path\n",
    "\n",
    "# Regex : id + \"_\" + Y(1-2 chiffres) + sexe(M/F) + age(2 chiffres)\n",
    "_AGE_RE = re.compile(r'^(?P<pid>\\d+)_(?P<idx>\\d{1,2})(?P<sex>[MF])(?P<age>\\d{2})$')\n",
    "\n",
    "def parse_from_filename(fname: str):\n",
    "    \"\"\"\n",
    "    fname: nom de fichier avec extension (ex: '0007_04M17.JPG')\n",
    "    return: dict {person_id:int, photo_idx:int, sex:int(M=1,F=0), age:int}\n",
    "    \"\"\"\n",
    "    stem = Path(fname).stem  # retire l'extension\n",
    "    m = _AGE_RE.match(stem)\n",
    "    if not m:\n",
    "        raise ValueError(f\"Nom de fichier non conforme: {fname}\")\n",
    "    d = m.groupdict()\n",
    "    return {\n",
    "        \"person_id\": int(d[\"pid\"]),\n",
    "        \"photo_idx\": int(d[\"idx\"]),\n",
    "        \"sex\": 1 if d[\"sex\"] == \"M\" else 0,\n",
    "        \"age\": int(d[\"age\"]),\n",
    "    }\n"
   ]
  },
  {
   "cell_type": "code",
   "execution_count": 4,
   "id": "05da1b47",
   "metadata": {},
   "outputs": [
    {
     "data": {
      "text/plain": [
       "{'person_id': 7, 'photo_idx': 4, 'sex': 1, 'age': 17}"
      ]
     },
     "execution_count": 4,
     "metadata": {},
     "output_type": "execute_result"
    }
   ],
   "source": [
    "parse_from_filename('0007_04M17.JPG')"
   ]
  },
  {
   "cell_type": "markdown",
   "id": "9a0c031c",
   "metadata": {},
   "source": [
    "2) Dataset PyTorch"
   ]
  },
  {
   "cell_type": "code",
   "execution_count": 5,
   "id": "cfae7c6d",
   "metadata": {},
   "outputs": [],
   "source": [
    "class AgeDataset(Dataset):\n",
    "    def __init__(self, img_dir, items, transform=None):\n",
    "        self.img_dir = Path(img_dir)\n",
    "        self.items = items  # list of dicts: {\"path\": str, \"age\": int, \"sex\": 0/1}\n",
    "        self.transform = transform\n",
    "\n",
    "    def __len__(self):\n",
    "        return len(self.items)\n",
    "\n",
    "    def __getitem__(self, i):\n",
    "        it = self.items[i]\n",
    "        path = self.img_dir / it[\"path\"]\n",
    "        img = Image.open(path).convert(\"RGB\")\n",
    "        if self.transform:\n",
    "            img = self.transform(img)\n",
    "        age = torch.tensor([it[\"age\"]], dtype=torch.float32)\n",
    "        sex = torch.tensor([it[\"sex\"]], dtype=torch.float32)\n",
    "        return img, age, sex, it[\"path\"]"
   ]
  },
  {
   "cell_type": "code",
   "execution_count": 6,
   "id": "789acdb9",
   "metadata": {},
   "outputs": [
    {
     "data": {
      "text/plain": [
       "(<PIL.Image.Image image mode=RGB size=180x180>,\n",
       " tensor([16.]),\n",
       " tensor([1.]),\n",
       " '0007_01M16.JPG')"
      ]
     },
     "execution_count": 6,
     "metadata": {},
     "output_type": "execute_result"
    }
   ],
   "source": [
    "AgeDataset(\"data/train\", [{\"path\": \"0007_01M16.JPG\", \"age\": 16, \"sex\": 1}])[0]"
   ]
  },
  {
   "cell_type": "markdown",
   "id": "37b33156",
   "metadata": {},
   "source": [
    "3) Transforms (train/val/test)"
   ]
  },
  {
   "cell_type": "code",
   "execution_count": 7,
   "id": "5d01ae1c",
   "metadata": {},
   "outputs": [],
   "source": [
    "mean, std = [0.485,0.456,0.406], [0.229,0.224,0.225]\n",
    "\n",
    "train_tf = transforms.Compose([\n",
    "    transforms.Resize(256),\n",
    "    transforms.RandomResizedCrop(224, scale=(0.8,1.0)),\n",
    "    transforms.RandomHorizontalFlip(),\n",
    "    transforms.ColorJitter(0.1,0.1,0.1,0.05),\n",
    "    transforms.ToTensor(),\n",
    "    transforms.Normalize(mean, std),\n",
    "    transforms.RandomErasing(p=0.25)\n",
    "])\n",
    "\n",
    "val_tf = transforms.Compose([\n",
    "    transforms.Resize(256),\n",
    "    transforms.CenterCrop(224),\n",
    "    transforms.ToTensor(),\n",
    "    transforms.Normalize(mean, std),\n",
    "])\n"
   ]
  },
  {
   "cell_type": "markdown",
   "id": "23dc78dc",
   "metadata": {},
   "source": [
    "4) Préparation des listes d’images"
   ]
  },
  {
   "cell_type": "code",
   "execution_count": 8,
   "id": "53362884",
   "metadata": {},
   "outputs": [],
   "source": [
    "train_dir = \"data/train\"\n",
    "test_dir  = \"data/test\"\n",
    "\n",
    "train_items = []\n",
    "for p in sorted(os.listdir(train_dir)):\n",
    "    if Path(p).suffix.lower() in IMG_EXTS:\n",
    "        meta = parse_from_filename(p)\n",
    "        train_items.append({\"path\": p, \"age\": meta[\"age\"], \"sex\": meta[\"sex\"]})\n",
    "\n",
    "test_items = [{\"path\": p} for p in sorted(os.listdir(test_dir)) if Path(p).suffix.lower() in IMG_EXTS]\n",
    "\n",
    "# Stratification par (bucket_age, sex)\n",
    "def age_bucket(a, width=5):\n",
    "    return a // width\n",
    "\n",
    "y_strat = [f\"{age_bucket(x['age'])}_{x['sex']}\" for x in train_items]\n"
   ]
  },
  {
   "cell_type": "code",
   "execution_count": 9,
   "id": "8815a125",
   "metadata": {},
   "outputs": [
    {
     "data": {
      "text/plain": [
       "[{'path': '00013_00M19.JPG', 'age': 19, 'sex': 1},\n",
       " {'path': '00013_01M19.JPG', 'age': 19, 'sex': 1},\n",
       " {'path': '00013_02M19.JPG', 'age': 19, 'sex': 1},\n",
       " {'path': '00022_03M19.JPG', 'age': 19, 'sex': 1},\n",
       " {'path': '00022_04M20.JPG', 'age': 20, 'sex': 1},\n",
       " {'path': '00027_00M30.JPG', 'age': 30, 'sex': 1}]"
      ]
     },
     "execution_count": 9,
     "metadata": {},
     "output_type": "execute_result"
    }
   ],
   "source": [
    "train_items[:6]"
   ]
  },
  {
   "cell_type": "code",
   "execution_count": 10,
   "id": "87a702a8",
   "metadata": {},
   "outputs": [
    {
     "data": {
      "text/plain": [
       "[{'path': '0.JPG'},\n",
       " {'path': '1.JPG'},\n",
       " {'path': '10.JPG'},\n",
       " {'path': '100.JPG'},\n",
       " {'path': '101.JPG'},\n",
       " {'path': '102.JPG'}]"
      ]
     },
     "execution_count": 10,
     "metadata": {},
     "output_type": "execute_result"
    }
   ],
   "source": [
    "test_items[:6]"
   ]
  },
  {
   "cell_type": "markdown",
   "id": "9c9dfd6f",
   "metadata": {},
   "source": [
    "5) Modèle (backbone timm + tête)"
   ]
  },
  {
   "cell_type": "code",
   "execution_count": 11,
   "id": "da3148ab",
   "metadata": {},
   "outputs": [],
   "source": [
    "class AgeRegressor(nn.Module):\n",
    "    def __init__(self, backbone_name=\"resnet50\", use_sex=True):\n",
    "        super().__init__()\n",
    "        self.backbone = timm.create_model(backbone_name, pretrained=True, num_classes=0, global_pool=\"avg\")\n",
    "        feat_dim = self.backbone.num_features\n",
    "        self.use_sex = use_sex\n",
    "        in_dim = feat_dim + (1 if use_sex else 0)\n",
    "        self.head = nn.Sequential(\n",
    "            nn.Dropout(0.2),\n",
    "            nn.Linear(in_dim, 1)\n",
    "        )\n",
    "        # self.head = nn.Sequential(\n",
    "        #     nn.Linear(in_dim, 1024),\n",
    "        #     nn.ReLU(),\n",
    "        #     nn.Dropout(0.3),\n",
    "        #     nn.Linear(1024, 512),\n",
    "        #     nn.ReLU(),\n",
    "        #     nn.Dropout(0.3),\n",
    "        #     nn.Linear(512, max_age+1)\n",
    "        # )\n",
    "\n",
    "\n",
    "    def forward(self, x, sex=None):\n",
    "        f = self.backbone(x)  # (B, feat_dim)\n",
    "        if self.use_sex and sex is not None:\n",
    "            f = torch.cat([f, sex], dim=1)\n",
    "        out = self.head(f)  # (B, 1)\n",
    "        return out\n"
   ]
  },
  {
   "cell_type": "code",
   "execution_count": 12,
   "id": "523ffa9b",
   "metadata": {},
   "outputs": [],
   "source": [
    "import torch\n",
    "import torch.nn as nn\n",
    "import timm\n",
    "\n",
    "class AgeClassifier(nn.Module):\n",
    "    def __init__(self, backbone_name=\"resnet50\", max_age=100, use_sex=True, hidden_dim=512):\n",
    "        super().__init__()\n",
    "        self.backbone = timm.create_model(backbone_name, pretrained=True, num_classes=0, global_pool=\"avg\")\n",
    "        feat_dim = self.backbone.num_features\n",
    "        self.use_sex = use_sex\n",
    "        in_dim = feat_dim + (1 if use_sex else 0)\n",
    "\n",
    "        # tu peux augmenter la profondeur du \"head\"\n",
    "        self.head = nn.Sequential(\n",
    "            nn.Linear(in_dim, hidden_dim),\n",
    "            nn.ReLU(inplace=True),\n",
    "            nn.Dropout(0.3),\n",
    "            nn.Linear(hidden_dim, max_age+1)  # classes 0..max_age\n",
    "        )\n",
    "\n",
    "    def forward(self, x, sex=None):\n",
    "        f = self.backbone(x)\n",
    "        if self.use_sex and sex is not None:\n",
    "            f = torch.cat([f, sex], dim=1)\n",
    "        logits = self.head(f)         # (B, 101)\n",
    "        probs = torch.softmax(logits, dim=1)\n",
    "        return logits, probs\n"
   ]
  },
  {
   "cell_type": "markdown",
   "id": "888c61f1",
   "metadata": {},
   "source": [
    "6) Entraînement (1 split ou k-fold)\n",
    "\n",
    "    6.1. boucle d’entraînement simple"
   ]
  },
  {
   "cell_type": "code",
   "execution_count": 13,
   "id": "b4c96a45",
   "metadata": {},
   "outputs": [],
   "source": [
    "from torch.amp import autocast\n",
    "def train_one_epoch(model, loader, optim, scaler, device, criterion, max_grad_norm=1.0):\n",
    "    model.train()\n",
    "    loss_sum, n = 0.0, 0\n",
    "    for imgs, ages, sex, _ in loader:\n",
    "        imgs, ages, sex = imgs.to(device), ages.to(device), sex.to(device)\n",
    "        optim.zero_grad(set_to_none=True)\n",
    "        with autocast(device_type=\"cuda\", dtype=torch.float16):\n",
    "            preds = model(imgs, sex)\n",
    "            loss = criterion(preds, ages)\n",
    "        scaler.scale(loss).backward()\n",
    "        scaler.unscale_(optim)\n",
    "        torch.nn.utils.clip_grad_norm_(model.parameters(), max_grad_norm)\n",
    "        scaler.step(optim)\n",
    "        scaler.update()\n",
    "        bs = imgs.size(0)\n",
    "        loss_sum += loss.item() * bs\n",
    "        n += bs\n",
    "    return loss_sum / n\n",
    "\n",
    "@torch.no_grad()\n",
    "def evaluate(model, loader, device):\n",
    "    model.eval()\n",
    "    mae_sum, mse_sum, n = 0.0, 0.0, 0\n",
    "    y_true, y_pred = [], []\n",
    "    for imgs, ages, sex, _ in loader:\n",
    "        imgs, ages, sex = imgs.to(device), ages.to(device), sex.to(device)\n",
    "        preds = model(imgs, sex)\n",
    "        preds = preds.clamp(0, 100)  # bornes raisonnables\n",
    "        err = torch.abs(preds - ages)\n",
    "        mae_sum += err.sum().item()\n",
    "        mse_sum += ((preds - ages)**2).sum().item()\n",
    "        n += imgs.size(0)\n",
    "        y_true.extend(ages.squeeze(1).cpu().numpy().tolist())\n",
    "        y_pred.extend(preds.squeeze(1).cpu().numpy().tolist())\n",
    "    mae = mae_sum / n\n",
    "    rmse = math.sqrt(mse_sum / n)\n",
    "    # %Within-k\n",
    "    def within_k(k):\n",
    "        return (np.mean(np.abs(np.array(y_pred)-np.array(y_true)) <= k) * 100.0)\n",
    "    metrics = {\n",
    "        \"MAE\": mae, \"RMSE\": rmse,\n",
    "        \"Within_1(%)\": within_k(1),\n",
    "        \"Within_2(%)\": within_k(2),\n",
    "        \"Within_3(%)\": within_k(3),\n",
    "    }\n",
    "    # métriques “classification tolérante” (±2 ans)\n",
    "    y_ok_true = np.ones_like(y_true)  # on évalue seulement “correct/incorrect”\n",
    "    y_ok_pred = (np.abs(np.array(y_pred)-np.array(y_true)) <= 2).astype(int)\n",
    "    P = precision_score(y_ok_true, y_ok_pred)\n",
    "    R = recall_score(y_ok_true, y_ok_pred)\n",
    "    F1 = f1_score(y_ok_true, y_ok_pred)\n",
    "    metrics.update({\"Prec_tol±2\": P, \"Rec_tol±2\": R, \"F1_tol±2\": F1})\n",
    "    return metrics, (y_true, y_pred)\n"
   ]
  },
  {
   "cell_type": "markdown",
   "id": "934f7a8c",
   "metadata": {},
   "source": [
    "    6.2. entraînement principal"
   ]
  },
  {
   "cell_type": "code",
   "execution_count": 14,
   "id": "993b38bc",
   "metadata": {},
   "outputs": [
    {
     "data": {
      "text/plain": [
       "'cuda'"
      ]
     },
     "execution_count": 14,
     "metadata": {},
     "output_type": "execute_result"
    }
   ],
   "source": [
    "device = \"cuda\" if torch.cuda.is_available() else \"cpu\"\n",
    "device"
   ]
  },
  {
   "cell_type": "code",
   "execution_count": 15,
   "id": "30803aee",
   "metadata": {},
   "outputs": [],
   "source": [
    "# %pip install --index-url https://download.pytorch.org/whl/cu124 torch torchvision torchaudio"
   ]
  },
  {
   "cell_type": "code",
   "execution_count": 16,
   "id": "dfeed152",
   "metadata": {},
   "outputs": [
    {
     "name": "stderr",
     "output_type": "stream",
     "text": [
      "c:\\Python312\\Lib\\site-packages\\sklearn\\model_selection\\_split.py:811: UserWarning: The least populated class in y has only 1 members, which is less than n_splits=5.\n",
      "  warnings.warn(\n"
     ]
    },
    {
     "data": {
      "application/vnd.jupyter.widget-view+json": {
       "model_id": "843bb8962c464f6297b96f3104225a64",
       "version_major": 2,
       "version_minor": 0
      },
      "text/plain": [
       "model.safetensors:   0%|          | 0.00/102M [00:00<?, ?B/s]"
      ]
     },
     "metadata": {},
     "output_type": "display_data"
    },
    {
     "name": "stderr",
     "output_type": "stream",
     "text": [
      "c:\\Python312\\Lib\\site-packages\\huggingface_hub\\file_download.py:143: UserWarning: `huggingface_hub` cache-system uses symlinks by default to efficiently store duplicated files but your machine does not support them in C:\\Users\\kokou\\.cache\\huggingface\\hub\\models--timm--resnet50.a1_in1k. Caching files will still work but in a degraded version that might require more space on your disk. This warning can be disabled by setting the `HF_HUB_DISABLE_SYMLINKS_WARNING` environment variable. For more details, see https://huggingface.co/docs/huggingface_hub/how-to-cache#limitations.\n",
      "To support symlinks on Windows, you either need to activate Developer Mode or to run Python as an administrator. In order to activate developer mode, see this article: https://docs.microsoft.com/en-us/windows/apps/get-started/enable-your-device-for-development\n",
      "  warnings.warn(message)\n"
     ]
    },
    {
     "name": "stdout",
     "output_type": "stream",
     "text": [
      "[1] temps=1885.3s | MAE=3.672\n",
      "Epoch 01 | train_loss=7.5914 | MAE=3.672 | RMSE=4.712 | W2=34.6% | F1tol2=0.514\n",
      "[2] temps=1668.4s | MAE=3.537\n",
      "Epoch 02 | train_loss=3.2745 | MAE=3.537 | RMSE=4.667 | W2=38.9% | F1tol2=0.560\n",
      "[3] temps=1661.9s | MAE=3.007\n",
      "Epoch 03 | train_loss=2.9840 | MAE=3.007 | RMSE=3.953 | W2=43.8% | F1tol2=0.609\n",
      "[4] temps=1641.6s | MAE=2.930\n",
      "Epoch 04 | train_loss=2.7902 | MAE=2.930 | RMSE=3.800 | W2=43.1% | F1tol2=0.602\n",
      "[5] temps=1640.9s | MAE=2.943\n",
      "Epoch 05 | train_loss=2.6666 | MAE=2.943 | RMSE=3.850 | W2=44.1% | F1tol2=0.612\n",
      "[6] temps=1639.4s | MAE=2.924\n",
      "Epoch 06 | train_loss=2.5651 | MAE=2.924 | RMSE=3.788 | W2=43.8% | F1tol2=0.609\n",
      "[7] temps=1770.2s | MAE=2.931\n",
      "Epoch 07 | train_loss=2.4743 | MAE=2.931 | RMSE=3.798 | W2=43.6% | F1tol2=0.607\n",
      "[8] temps=1781.9s | MAE=3.223\n",
      "Epoch 08 | train_loss=2.3869 | MAE=3.223 | RMSE=4.214 | W2=41.7% | F1tol2=0.588\n",
      "[9] temps=1872.1s | MAE=2.927\n",
      "Epoch 09 | train_loss=2.3096 | MAE=2.927 | RMSE=3.825 | W2=44.6% | F1tol2=0.617\n",
      "[10] temps=1858.4s | MAE=2.749\n",
      "Epoch 10 | train_loss=2.2487 | MAE=2.749 | RMSE=3.560 | W2=46.0% | F1tol2=0.630\n",
      "[11] temps=1767.2s | MAE=2.719\n",
      "Epoch 11 | train_loss=2.1863 | MAE=2.719 | RMSE=3.537 | W2=46.9% | F1tol2=0.638\n",
      "[12] temps=1837.6s | MAE=2.684\n",
      "Epoch 12 | train_loss=2.1221 | MAE=2.684 | RMSE=3.536 | W2=48.7% | F1tol2=0.655\n",
      "[13] temps=1688.7s | MAE=2.649\n",
      "Epoch 13 | train_loss=2.0679 | MAE=2.649 | RMSE=3.485 | W2=49.0% | F1tol2=0.657\n",
      "[14] temps=1776.7s | MAE=2.756\n",
      "Epoch 14 | train_loss=2.0054 | MAE=2.756 | RMSE=3.612 | W2=46.5% | F1tol2=0.635\n",
      "[15] temps=1670.8s | MAE=2.685\n",
      "Epoch 15 | train_loss=1.9186 | MAE=2.685 | RMSE=3.505 | W2=47.4% | F1tol2=0.643\n",
      "Best MAE: 2.649295608118208 saved: best_model_15.pt\n"
     ]
    }
   ],
   "source": [
    "import time\n",
    "device = \"cuda\" if torch.cuda.is_available() else \"cpu\"\n",
    "BATCH_SIZE = 64\n",
    "EPOCHS = 15\n",
    "LR = 3e-4\n",
    "WD = 1e-4\n",
    "\n",
    "# split simple 80/20\n",
    "idx = np.arange(len(train_items))\n",
    "skf = StratifiedKFold(n_splits=5, shuffle=True, random_state=42)\n",
    "train_idx, val_idx = next(iter(skf.split(idx, y_strat)))\n",
    "\n",
    "train_list = [train_items[i] for i in train_idx]\n",
    "val_list   = [train_items[i] for i in val_idx]\n",
    "\n",
    "train_ds = AgeDataset(train_dir, train_list, transform=train_tf)\n",
    "val_ds   = AgeDataset(train_dir, val_list, transform=val_tf)\n",
    "\n",
    "train_loader = DataLoader(train_ds, batch_size=BATCH_SIZE, shuffle=True, num_workers=0, pin_memory=True)\n",
    "val_loader   = DataLoader(val_ds, batch_size=BATCH_SIZE, shuffle=False, num_workers=0, pin_memory=True)\n",
    "\n",
    "model = AgeRegressor(\"resnet50\", use_sex=True).to(device)\n",
    "criterion = nn.SmoothL1Loss(beta=1.0)  # Huber\n",
    "optimizer = torch.optim.AdamW(model.parameters(), lr=LR, weight_decay=WD)\n",
    "scaler = torch.amp.GradScaler()\n",
    "\n",
    "best_mae, best_path = 1e9, f\"best_model.pt\"\n",
    "for epoch in range(1, EPOCHS+1):\n",
    "    t0 = time.time()\n",
    "    tr_loss = train_one_epoch(model, train_loader, optimizer, scaler, device, criterion)\n",
    "    metrics, _ = evaluate(model, val_loader, device)\n",
    "    dt = time.time()-t0\n",
    "    print(f\"[{epoch}] temps={dt:.1f}s | MAE={metrics['MAE']:.3f}\")\n",
    "    print(f\"Epoch {epoch:02d} | train_loss={tr_loss:.4f} | \"\n",
    "          f\"MAE={metrics['MAE']:.3f} | RMSE={metrics['RMSE']:.3f} | \"\n",
    "          f\"W2={metrics['Within_2(%)']:.1f}% | F1tol2={metrics['F1_tol±2']:.3f}\")\n",
    "    best_path = f\"best_model_{epoch}.pt\"\n",
    "    if metrics[\"MAE\"] < best_mae:\n",
    "        best_mae = metrics[\"MAE\"]\n",
    "        torch.save(model.state_dict(), best_path)\n",
    " \n",
    "print(\"Best MAE:\", best_mae, \"saved:\", best_path)\n"
   ]
  },
  {
   "cell_type": "code",
   "execution_count": 20,
   "id": "bcaf1f75",
   "metadata": {},
   "outputs": [
    {
     "data": {
      "text/html": [
       "<div>\n",
       "<style scoped>\n",
       "    .dataframe tbody tr th:only-of-type {\n",
       "        vertical-align: middle;\n",
       "    }\n",
       "\n",
       "    .dataframe tbody tr th {\n",
       "        vertical-align: top;\n",
       "    }\n",
       "\n",
       "    .dataframe thead th {\n",
       "        text-align: right;\n",
       "    }\n",
       "</style>\n",
       "<table border=\"1\" class=\"dataframe\">\n",
       "  <thead>\n",
       "    <tr style=\"text-align: right;\">\n",
       "      <th></th>\n",
       "      <th>epoch</th>\n",
       "      <th>temps_s</th>\n",
       "      <th>train_loss</th>\n",
       "      <th>mae</th>\n",
       "      <th>rmse</th>\n",
       "      <th>W2</th>\n",
       "      <th>F1tol2</th>\n",
       "    </tr>\n",
       "  </thead>\n",
       "  <tbody>\n",
       "    <tr>\n",
       "      <th>0</th>\n",
       "      <td>1</td>\n",
       "      <td>1885.3</td>\n",
       "      <td>7.5914</td>\n",
       "      <td>3.672</td>\n",
       "      <td>4.712</td>\n",
       "      <td>34.6</td>\n",
       "      <td>0.514</td>\n",
       "    </tr>\n",
       "    <tr>\n",
       "      <th>1</th>\n",
       "      <td>2</td>\n",
       "      <td>1668.4</td>\n",
       "      <td>3.2745</td>\n",
       "      <td>3.537</td>\n",
       "      <td>4.667</td>\n",
       "      <td>38.9</td>\n",
       "      <td>0.560</td>\n",
       "    </tr>\n",
       "    <tr>\n",
       "      <th>2</th>\n",
       "      <td>3</td>\n",
       "      <td>1661.9</td>\n",
       "      <td>2.9840</td>\n",
       "      <td>3.007</td>\n",
       "      <td>3.953</td>\n",
       "      <td>43.8</td>\n",
       "      <td>0.609</td>\n",
       "    </tr>\n",
       "    <tr>\n",
       "      <th>3</th>\n",
       "      <td>4</td>\n",
       "      <td>1641.6</td>\n",
       "      <td>2.7902</td>\n",
       "      <td>2.930</td>\n",
       "      <td>3.800</td>\n",
       "      <td>43.1</td>\n",
       "      <td>0.602</td>\n",
       "    </tr>\n",
       "    <tr>\n",
       "      <th>4</th>\n",
       "      <td>5</td>\n",
       "      <td>1640.9</td>\n",
       "      <td>2.6666</td>\n",
       "      <td>2.943</td>\n",
       "      <td>3.850</td>\n",
       "      <td>44.1</td>\n",
       "      <td>0.612</td>\n",
       "    </tr>\n",
       "    <tr>\n",
       "      <th>5</th>\n",
       "      <td>6</td>\n",
       "      <td>1639.4</td>\n",
       "      <td>2.5651</td>\n",
       "      <td>2.924</td>\n",
       "      <td>3.788</td>\n",
       "      <td>43.8</td>\n",
       "      <td>0.609</td>\n",
       "    </tr>\n",
       "    <tr>\n",
       "      <th>6</th>\n",
       "      <td>7</td>\n",
       "      <td>1770.2</td>\n",
       "      <td>2.4743</td>\n",
       "      <td>2.931</td>\n",
       "      <td>3.798</td>\n",
       "      <td>43.6</td>\n",
       "      <td>0.607</td>\n",
       "    </tr>\n",
       "    <tr>\n",
       "      <th>7</th>\n",
       "      <td>8</td>\n",
       "      <td>1781.9</td>\n",
       "      <td>2.3869</td>\n",
       "      <td>3.223</td>\n",
       "      <td>4.214</td>\n",
       "      <td>41.7</td>\n",
       "      <td>0.588</td>\n",
       "    </tr>\n",
       "    <tr>\n",
       "      <th>8</th>\n",
       "      <td>9</td>\n",
       "      <td>1872.1</td>\n",
       "      <td>2.3096</td>\n",
       "      <td>2.927</td>\n",
       "      <td>3.825</td>\n",
       "      <td>44.6</td>\n",
       "      <td>0.617</td>\n",
       "    </tr>\n",
       "    <tr>\n",
       "      <th>9</th>\n",
       "      <td>10</td>\n",
       "      <td>1858.4</td>\n",
       "      <td>2.2487</td>\n",
       "      <td>2.749</td>\n",
       "      <td>3.560</td>\n",
       "      <td>46.0</td>\n",
       "      <td>0.630</td>\n",
       "    </tr>\n",
       "    <tr>\n",
       "      <th>10</th>\n",
       "      <td>11</td>\n",
       "      <td>1767.2</td>\n",
       "      <td>2.1863</td>\n",
       "      <td>2.719</td>\n",
       "      <td>3.537</td>\n",
       "      <td>46.9</td>\n",
       "      <td>0.638</td>\n",
       "    </tr>\n",
       "    <tr>\n",
       "      <th>11</th>\n",
       "      <td>12</td>\n",
       "      <td>1837.6</td>\n",
       "      <td>2.1221</td>\n",
       "      <td>2.684</td>\n",
       "      <td>3.536</td>\n",
       "      <td>48.7</td>\n",
       "      <td>0.655</td>\n",
       "    </tr>\n",
       "    <tr>\n",
       "      <th>12</th>\n",
       "      <td>13</td>\n",
       "      <td>1688.7</td>\n",
       "      <td>2.0679</td>\n",
       "      <td>2.649</td>\n",
       "      <td>3.485</td>\n",
       "      <td>49.0</td>\n",
       "      <td>0.657</td>\n",
       "    </tr>\n",
       "    <tr>\n",
       "      <th>13</th>\n",
       "      <td>14</td>\n",
       "      <td>1776.7</td>\n",
       "      <td>2.0054</td>\n",
       "      <td>2.756</td>\n",
       "      <td>3.612</td>\n",
       "      <td>46.5</td>\n",
       "      <td>0.635</td>\n",
       "    </tr>\n",
       "    <tr>\n",
       "      <th>14</th>\n",
       "      <td>15</td>\n",
       "      <td>1670.8</td>\n",
       "      <td>1.9186</td>\n",
       "      <td>2.685</td>\n",
       "      <td>3.505</td>\n",
       "      <td>47.4</td>\n",
       "      <td>0.643</td>\n",
       "    </tr>\n",
       "  </tbody>\n",
       "</table>\n",
       "</div>"
      ],
      "text/plain": [
       "    epoch  temps_s  train_loss    mae   rmse    W2  F1tol2\n",
       "0       1   1885.3      7.5914  3.672  4.712  34.6   0.514\n",
       "1       2   1668.4      3.2745  3.537  4.667  38.9   0.560\n",
       "2       3   1661.9      2.9840  3.007  3.953  43.8   0.609\n",
       "3       4   1641.6      2.7902  2.930  3.800  43.1   0.602\n",
       "4       5   1640.9      2.6666  2.943  3.850  44.1   0.612\n",
       "5       6   1639.4      2.5651  2.924  3.788  43.8   0.609\n",
       "6       7   1770.2      2.4743  2.931  3.798  43.6   0.607\n",
       "7       8   1781.9      2.3869  3.223  4.214  41.7   0.588\n",
       "8       9   1872.1      2.3096  2.927  3.825  44.6   0.617\n",
       "9      10   1858.4      2.2487  2.749  3.560  46.0   0.630\n",
       "10     11   1767.2      2.1863  2.719  3.537  46.9   0.638\n",
       "11     12   1837.6      2.1221  2.684  3.536  48.7   0.655\n",
       "12     13   1688.7      2.0679  2.649  3.485  49.0   0.657\n",
       "13     14   1776.7      2.0054  2.756  3.612  46.5   0.635\n",
       "14     15   1670.8      1.9186  2.685  3.505  47.4   0.643"
      ]
     },
     "execution_count": 20,
     "metadata": {},
     "output_type": "execute_result"
    }
   ],
   "source": [
    "import pandas as pd\n",
    "\n",
    "perf = pd.DataFrame([\n",
    "    {\"epoch\": 1,  \"temps_s\": 1885.3, \"train_loss\": 7.5914, \"mae\": 3.672, \"rmse\": 4.712, \"W2\": 34.6, \"F1tol2\": 0.514},\n",
    "    {\"epoch\": 2,  \"temps_s\": 1668.4, \"train_loss\": 3.2745, \"mae\": 3.537, \"rmse\": 4.667, \"W2\": 38.9, \"F1tol2\": 0.560},\n",
    "    {\"epoch\": 3,  \"temps_s\": 1661.9, \"train_loss\": 2.9840, \"mae\": 3.007, \"rmse\": 3.953, \"W2\": 43.8, \"F1tol2\": 0.609},\n",
    "    {\"epoch\": 4,  \"temps_s\": 1641.6, \"train_loss\": 2.7902, \"mae\": 2.930, \"rmse\": 3.800, \"W2\": 43.1, \"F1tol2\": 0.602},\n",
    "    {\"epoch\": 5,  \"temps_s\": 1640.9, \"train_loss\": 2.6666, \"mae\": 2.943, \"rmse\": 3.850, \"W2\": 44.1, \"F1tol2\": 0.612},\n",
    "    {\"epoch\": 6,  \"temps_s\": 1639.4, \"train_loss\": 2.5651, \"mae\": 2.924, \"rmse\": 3.788, \"W2\": 43.8, \"F1tol2\": 0.609},\n",
    "    {\"epoch\": 7,  \"temps_s\": 1770.2, \"train_loss\": 2.4743, \"mae\": 2.931, \"rmse\": 3.798, \"W2\": 43.6, \"F1tol2\": 0.607},\n",
    "    {\"epoch\": 8,  \"temps_s\": 1781.9, \"train_loss\": 2.3869, \"mae\": 3.223, \"rmse\": 4.214, \"W2\": 41.7, \"F1tol2\": 0.588},\n",
    "    {\"epoch\": 9,  \"temps_s\": 1872.1, \"train_loss\": 2.3096, \"mae\": 2.927, \"rmse\": 3.825, \"W2\": 44.6, \"F1tol2\": 0.617},\n",
    "    {\"epoch\": 10, \"temps_s\": 1858.4, \"train_loss\": 2.2487, \"mae\": 2.749, \"rmse\": 3.560, \"W2\": 46.0, \"F1tol2\": 0.630},\n",
    "    {\"epoch\": 11, \"temps_s\": 1767.2, \"train_loss\": 2.1863, \"mae\": 2.719, \"rmse\": 3.537, \"W2\": 46.9, \"F1tol2\": 0.638},\n",
    "    {\"epoch\": 12, \"temps_s\": 1837.6, \"train_loss\": 2.1221, \"mae\": 2.684, \"rmse\": 3.536, \"W2\": 48.7, \"F1tol2\": 0.655},\n",
    "    {\"epoch\": 13, \"temps_s\": 1688.7, \"train_loss\": 2.0679, \"mae\": 2.649, \"rmse\": 3.485, \"W2\": 49.0, \"F1tol2\": 0.657},\n",
    "    {\"epoch\": 14, \"temps_s\": 1776.7, \"train_loss\": 2.0054, \"mae\": 2.756, \"rmse\": 3.612, \"W2\": 46.5, \"F1tol2\": 0.635},\n",
    "    {\"epoch\": 15, \"temps_s\": 1670.8, \"train_loss\": 1.9186, \"mae\": 2.685, \"rmse\": 3.505, \"W2\": 47.4, \"F1tol2\": 0.643},\n",
    "])\n",
    "\n",
    "perf"
   ]
  },
  {
   "cell_type": "code",
   "execution_count": 21,
   "id": "0831cb70",
   "metadata": {},
   "outputs": [
    {
     "data": {
      "image/png": "[encoded data removed]",
      "text/plain": [
       "<Figure size 2000x500 with 4 Axes>"
      ]
     },
     "metadata": {},
     "output_type": "display_data"
    }
   ],
   "source": [
    "import matplotlib.pyplot as plt\n",
    "import seaborn as sns\n",
    "\n",
    "# Style seaborn\n",
    "sns.set(style=\"whitegrid\")\n",
    "\n",
    "# Liste des métriques à tracer\n",
    "metrics = [\"mae\", \"rmse\", \"W2\", \"F1tol2\"]\n",
    "\n",
    "# Créer une figure avec 4 sous-graphiques côte à côte\n",
    "fig, axes = plt.subplots(1, 4, figsize=(20, 5), sharex=True)\n",
    "\n",
    "for ax, metric in zip(axes, metrics):\n",
    "    sns.lineplot(data=perf, x=\"epoch\", y=metric, marker=\"o\", ax=ax)\n",
    "    ax.set_title(metric.upper())\n",
    "    ax.set_xlabel(\"Epoch\")\n",
    "    ax.set_ylabel(metric)\n",
    "\n",
    "plt.tight_layout()\n",
    "plt.show()"
   ]
  },
  {
   "cell_type": "markdown",
   "id": "003d8497",
   "metadata": {},
   "source": [
    "7) Inférence sur le test + export CSV/JSON"
   ]
  },
  {
   "cell_type": "code",
   "execution_count": 22,
   "id": "966e79b5",
   "metadata": {},
   "outputs": [
    {
     "name": "stdout",
     "output_type": "stream",
     "text": [
      "  filename  age\n",
      "0    0.JPG   19\n",
      "1    1.JPG   22\n",
      "2   10.JPG   30\n",
      "3  100.JPG   35\n",
      "4  101.JPG   33\n"
     ]
    }
   ],
   "source": [
    "# charge meilleurs poids\n",
    "model = AgeRegressor(\"resnet50\", use_sex=True).to(device)\n",
    "model.load_state_dict(torch.load(\"best_model_13.pt\", map_location=device))\n",
    "model.eval()\n",
    "\n",
    "test_tf = val_tf  # pas d'augmentation forte à test\n",
    "class TestDataset(Dataset):\n",
    "    def __init__(self, img_dir, items, transform=None):\n",
    "        self.img_dir = Path(img_dir); self.items = items; self.transform = transform\n",
    "    def __len__(self): return len(self.items)\n",
    "    def __getitem__(self, i):\n",
    "        p = self.items[i][\"path\"]\n",
    "        img = Image.open(self.img_dir / p).convert(\"RGB\")\n",
    "        if self.transform: img = self.transform(img)\n",
    "        # sexe inconnu en test → on met 0.5 (neutre) ou 0 si non utilisé\n",
    "        sex = torch.tensor([0.5], dtype=torch.float32)\n",
    "        return img, sex, p\n",
    "\n",
    "test_ds = TestDataset(test_dir, test_items, transform=test_tf)\n",
    "test_loader = DataLoader(test_ds, batch_size=64, shuffle=False, num_workers=0, pin_memory=True)\n",
    "\n",
    "preds, names = [], []\n",
    "with torch.no_grad():\n",
    "    for imgs, sex, ps in test_loader:\n",
    "        imgs, sex = imgs.to(device), sex.to(device)\n",
    "        y = model(imgs, sex).clamp(0, 100)\n",
    "        preds.extend(y.squeeze(1).cpu().numpy().tolist())\n",
    "        names.extend(ps)\n",
    "\n",
    "# si besoin d’entiers:\n",
    "preds_int = [int(round(x)) for x in preds]\n",
    "\n",
    "# Format d’export recommandé:\n",
    "# CSV avec colonnes: filename, age\n",
    "sub_df = pd.DataFrame({\"filename\": names, \"age\": preds_int})\n",
    "sub_df.to_csv(\"submission_age.csv\", index=False)\n",
    "\n",
    "# JSON possible\n",
    "sub_df.to_json(\"submission_age.json\", orient=\"records\", lines=False)\n",
    "print(sub_df.head())\n"
   ]
  },
  {
   "cell_type": "markdown",
   "id": "fa7f5148",
   "metadata": {},
   "source": [
    "1) Évaluation robustesse "
   ]
  },
  {
   "cell_type": "code",
   "execution_count": 25,
   "id": "a9cf5f21",
   "metadata": {},
   "outputs": [
    {
     "name": "stdout",
     "output_type": "stream",
     "text": [
      "MAE sous bright+50%: 5.188\n"
     ]
    }
   ],
   "source": [
    "from torchvision.transforms.functional import adjust_brightness\n",
    "@torch.no_grad()\n",
    "def eval_brightness(model, loader, device, factor=1.5):\n",
    "    model.eval()\n",
    "    mae_sum, n = 0.0, 0\n",
    "    for imgs, ages, sex, _ in loader:\n",
    "        imgs_b = torch.stack([adjust_brightness(img, factor) for img in imgs])\n",
    "        imgs_b, ages, sex = imgs_b.to(device), ages.to(device), sex.to(device)\n",
    "        y = model(imgs_b, sex).clamp(0,100)\n",
    "        mae_sum += torch.abs(y-ages).sum().item()\n",
    "        n += imgs.size(0)\n",
    "    return mae_sum/n\n",
    "\n",
    "b_mae = eval_brightness(model, val_loader, device, factor=0.5)\n",
    "print(\"MAE sous bright+50%:\", round(b_mae,3))\n"
   ]
  },
  {
   "cell_type": "markdown",
   "id": "d18a87be",
   "metadata": {},
   "source": [
    "---\n",
    "\n",
    "> ## 🔎 Lecture des métriques\n",
    ">\n",
    "> Le modèle à l'époch 15 semble la meilleur, vu que le MAE a commencé à diverger\n",
    "> \n",
    ">* **MAE (Mean Absolute Error) ≈ 8.8 ans**\n",
    ">  → En moyenne, ton modèle se trompe de \\~9 ans.\n",
    ">  Pour une tâche d’estimation d’âge, c’est **correct** si ton dataset couvre 0–100 ans, mais ce n’est pas encore “très bon”.\n",
    ">  (En recherche, des modèles sur gros datasets arrivent plutôt entre 3–5 ans de MAE, mais avec beaucoup plus de données et souvent du pré-entrainement spécifique au visage.)\n",
    ">\n",
    ">* **RMSE ≈ 10.5 ans**\n",
    ">  → Les grosses erreurs pèsent plus (carré). Ton modèle fait parfois des erreurs bien plus grandes que 9 ans.\n",
    ">\n",
    ">* **Within 2 ans (W2) = 12.7%**\n",
    ">  → Seulement 12.7% des prédictions sont à ±2 ans de l’âge réel.\n",
    ">  C’est assez faible. Sur des modèles plus spécialisés visage, on viserait plutôt 30–40% ou plus.\n",
    ">\n",
    ">* **F1 tol ±2 = 0.225**\n",
    ">  → C’est cohérent avec W2 : ton rappel et ta précision dans cette tolérance restent faibles.\n",
    ">\n",
    ">* **Temps par époque**\n",
    ">\n",
    ">  * Epoch 1 : 1967 s (≈ 33 min) → probablement DataLoader lent au démarrage.\n",
    ">  * Epoch 2 : 2377 s (≈ 40 min).\n",
    ">  * Epoch 3 : 916 s (≈ 15 min).\n",
    ">\n",
    "> ## ⚖️ Interprétion\n",
    ">\n",
    ">* Ton modèle **apprend bien** (MAE passe de 9.58 → 8.79 en 3 époques).\n",
    ">* **Mais la performance reste moyenne** (erreur \\~9 ans).\n",
    ">* Le temps par époque est **élevé** mais acceptable pour ce volume (\\~40k images).\n",
    ">\n",
    ">## 🚀 Pistes d’amélioration\n",
    ">\n",
    ">1. **Modèle (backbone)**\n",
    ">\n",
    ">   * On a testé `convnext_tiny`.\n",
    ">   * Essayer `resnet50`, `efficientnet_b3`, ou même `swin_tiny` via `timm` : certains sont meilleurs sur visages.\n",
    ">\n",
    ">2. **Formulation de la tâche**\n",
    ">\n",
    ">   * On es en **régression directe** → souvent moins robuste.\n",
    ">   * Essayer la **classification douce (0–100 ans, soft labels)** : ça stabilise et améliore généralement MAE et W2.\n",
    ">\n",
    ">3. **Data augmentation**\n",
    ">\n",
    ">   * Améliorer la robustesse : flips, légère rotation, color jitter.\n",
    ">   * On avait mis RandomErasing : ça peut être violent sur des visages → à tester prudemment.\n",
    ">\n",
    ">4. **Entraînement plus long**\n",
    ">\n",
    ">   * Avec seulement 3 époques, on n’a pas encore convergé.\n",
    ">   * Tester 15–20 époques (en surveillant MAE val).\n",
    ">\n",
    ">5. **Batch normalization et dropout**\n",
    ">\n",
    ">   * Vérifier si on a assez de régularisation.\n",
    ">   * Un head un peu plus profond (2–3 couches) peut aider.\n",
    ">\n",
    ">**Conclusion**\n",
    ">\n",
    "> *“Après 3 époques, notre modèle ConvNeXt Tiny atteint une MAE de \\~8.8 ans. Cela montre que le modèle apprend (MAE en baisse), mais les performances restent moyennes : seule \\~12% des prédictions sont dans une tolérance de ±2 ans. Il y a encore une marge d’amélioration, notamment en testant la formulation classification douce, un backbone plus puissant (EfficientNet/ResNet50), et un entraînement plus long (10–20 époques).”*\n"
   ]
  }
 ],
 "metadata": {
  "kernelspec": {
   "display_name": "Python 3",
   "language": "python",
   "name": "python3"
  },
  "language_info": {
   "codemirror_mode": {
    "name": "ipython",
    "version": 3
   },
   "file_extension": ".py",
   "mimetype": "text/x-python",
   "name": "python",
   "nbconvert_exporter": "python",
   "pygments_lexer": "ipython3",
   "version": "3.12.6"
  }
 },
 "nbformat": 4,
 "nbformat_minor": 5
}
